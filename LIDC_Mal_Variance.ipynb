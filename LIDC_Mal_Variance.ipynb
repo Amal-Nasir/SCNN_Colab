{
  "cells": [
    {
      "cell_type": "markdown",
      "metadata": {
        "id": "view-in-github",
        "colab_type": "text"
      },
      "source": [
        "<a href=\"https://colab.research.google.com/github/Amal-Nasir/SCNN_Colab/blob/main/LIDC_Mal_Variance.ipynb\" target=\"_parent\"><img src=\"https://colab.research.google.com/assets/colab-badge.svg\" alt=\"Open In Colab\"/></a>"
      ]
    },
    {
      "cell_type": "code",
      "execution_count": null,
      "metadata": {
        "colab": {
          "base_uri": "https://localhost:8080/"
        },
        "id": "iapjMoGoR5U3",
        "outputId": "49f03f2f-8699-433d-80e9-7a9aa5b6e652"
      },
      "outputs": [
        {
          "output_type": "stream",
          "name": "stdout",
          "text": [
            "Mounted at /content/drive\n"
          ]
        }
      ],
      "source": [
        "from google.colab import drive\n",
        "drive.mount('/content/drive')"
      ]
    },
    {
      "cell_type": "code",
      "execution_count": null,
      "metadata": {
        "id": "_ulkz4_55ZYO",
        "colab": {
          "base_uri": "https://localhost:8080/"
        },
        "outputId": "6ba41b69-7d6d-4664-a48b-fb98371f847b"
      },
      "outputs": [
        {
          "output_type": "stream",
          "name": "stdout",
          "text": [
            "/\n"
          ]
        }
      ],
      "source": [
        "cd .."
      ]
    },
    {
      "cell_type": "code",
      "execution_count": null,
      "metadata": {
        "id": "xBss2yWg5aNV",
        "colab": {
          "base_uri": "https://localhost:8080/"
        },
        "outputId": "8ea1d578-8a8f-4925-f1b1-de88b303e85c"
      },
      "outputs": [
        {
          "output_type": "stream",
          "name": "stdout",
          "text": [
            "/content/drive/MyDrive/MedIx REU/Datasets\n"
          ]
        }
      ],
      "source": [
        "cd content/drive/MyDrive/MedIx\\ REU/Datasets"
      ]
    },
    {
      "cell_type": "code",
      "execution_count": null,
      "metadata": {
        "id": "EOM6ZwEeZAAT"
      },
      "outputs": [],
      "source": [
        "from __future__ import absolute_import\n",
        "from __future__ import print_function\n",
        "import tensorflow as tf\n",
        "import numpy as np  # linear alg\n",
        "import pandas as pd  # data processing, CSV file I/O (e.g. pd.read_csv)\n",
        "import random\n",
        "import keras\n",
        "import matplotlib.pyplot as plt\n",
        "from keras.models import Model\n",
        "from keras.layers import Input, Flatten, Dense, Dropout, Lambda\n",
        "from keras import backend as K\n",
        "from sklearn.neighbors import KNeighborsClassifier\n",
        "from sklearn.metrics import accuracy_score, silhouette_score, silhouette_samples, homogeneity_completeness_v_measure\n",
        "from sklearn.cluster import KMeans\n",
        "from sklearn.preprocessing import normalize, MinMaxScaler\n",
        "from keras.layers.convolutional import Conv2D\n",
        "from keras.layers.pooling import MaxPooling2D, AveragePooling2D\n",
        "from sklearn.manifold import TSNE\n",
        "from sklearn.cluster import DBSCAN, SpectralClustering, AgglomerativeClustering\n",
        "import os\n",
        "from os import path\n",
        "#from s_dbw import S_Dbw, SD"
      ]
    },
    {
      "cell_type": "code",
      "source": [
        "def contrastive_loss(y_true, y_pred):\n",
        "    '''Contrastive loss from Hadsell-et-al.'06\n",
        "    http://yann.lecun.com/exdb/publis/pdf/hadsell-chopra-lecun-06.pdf\n",
        "      uses y_true as Y and y_pred as the Euclidean distance between dissimilar points\n",
        "    '''\n",
        "    margin = 1\n",
        "    y_true = K.cast(y_true, 'float32')\n",
        "    y_pred = K.cast(y_pred, 'float32')\n",
        "    sqaure_pred = K.square(y_pred)\n",
        "    margin_square = K.square(K.maximum(margin - y_pred, 0))\n",
        "    return K.mean(y_true * sqaure_pred + (1 - y_true) * margin_square)"
      ],
      "metadata": {
        "id": "O_NKrYgZBwBy"
      },
      "execution_count": null,
      "outputs": []
    },
    {
      "cell_type": "code",
      "source": [
        "from sklearn.preprocessing import StandardScaler\n",
        "\n",
        "class KMeans:\n",
        "    def __init__(self, n_clusters=8, max_iter=1000):\n",
        "        self.n_clusters = n_clusters\n",
        "        self.max_iter = max_iter\n",
        "    def fit(self, X_train):\n",
        "        # Initialize the centroids, using the \"k-means++\" method, where a random datapoint is selected as the first,\n",
        "        # then the rest are initialized w/ probabilities proportional to their distances to the first\n",
        "        # Pick a random point from train data for first centroid\n",
        "        self.centroids = [random.choice(X_train)]\n",
        "        for _ in range(self.n_clusters-1):\n",
        "            # Calculate distances from points to the centroids\n",
        "            dists = np.sum([self.euclidean(centroid, X_train) for centroid in self.centroids], axis=0)\n",
        "            # Normalize the distances\n",
        "            dists /= np.sum(dists)\n",
        "            # Choose remaining points based on their distances\n",
        "            new_centroid_idx, = np.random.choice(range(len(X_train)), size=1, p=dists)\n",
        "            self.centroids += [X_train[new_centroid_idx]]\n",
        "        # This initial method of randomly selecting centroid starts is less effective\n",
        "        # min_, max_ = np.min(X_train, axis=0), np.max(X_train, axis=0)\n",
        "        # self.centroids = [uniform(min_, max_) for _ in range(self.n_clusters)]\n",
        "        # Iterate, adjusting centroids until converged or until passed max_iter\n",
        "        iteration = 0\n",
        "        prev_centroids = None\n",
        "        while np.not_equal(self.centroids, prev_centroids).any() and iteration < self.max_iter:\n",
        "            # Sort each datapoint, assigning to nearest centroid\n",
        "            sorted_points = [[] for _ in range(self.n_clusters)]\n",
        "            for x in X_train:\n",
        "                dists = self.euclidean(x, self.centroids)\n",
        "                centroid_idx = np.argmin(dists)\n",
        "                sorted_points[centroid_idx].append(x)\n",
        "            # Push current centroids to previous, reassign centroids as mean of the points belonging to them\n",
        "            prev_centroids = self.centroids\n",
        "            self.centroids = [np.mean(cluster, axis=0) for cluster in sorted_points]\n",
        "            for i, centroid in enumerate(self.centroids):\n",
        "                if np.isnan(centroid).any():  # Catch any np.nans, resulting from a centroid having no points\n",
        "                    self.centroids[i] = prev_centroids[i]\n",
        "            iteration += 1\n",
        "    def evaluate(self, X):\n",
        "        centroids = []\n",
        "        centroid_idxs = []\n",
        "        for x in X:\n",
        "            dists = self.euclidean(x, self.centroids)\n",
        "            centroid_idx = np.argmin(dists)\n",
        "            centroids.append(self.centroids[centroid_idx])\n",
        "            centroid_idxs.append(centroid_idx)\n",
        "        return centroids, centroid_idxs\n",
        "\n",
        "    def euclidean(self, point, data):\n",
        "        \"\"\"\n",
        "        Euclidean distance between point & data.\n",
        "        Point has dimensions (m,), data has dimensions (n,m), and output will be of size (n,).\n",
        "        \"\"\"\n",
        "        return np.sqrt(np.sum((point - data)**2, axis=1))"
      ],
      "metadata": {
        "id": "FSC-rggZACfQ"
      },
      "execution_count": null,
      "outputs": []
    },
    {
      "cell_type": "code",
      "execution_count": null,
      "metadata": {
        "id": "U6Y50Yu9cZuN",
        "colab": {
          "base_uri": "https://localhost:8080/"
        },
        "outputId": "d1ca51de-8a95-49ca-f98d-7ac64ec7d8b8"
      },
      "outputs": [
        {
          "output_type": "stream",
          "name": "stderr",
          "text": [
            "WARNING:tensorflow:No training configuration found in save file, so the model was *not* compiled. Compile it manually.\n"
          ]
        }
      ],
      "source": [
        "##### Import Trained Model #####\n",
        "model = keras.models.load_model(\"/content/drive/MyDrive/MedIx REU/Datasets/Amal/malignancy/my_model_val\" , compile = True, custom_objects={\"contrastive_loss\": contrastive_loss})"
      ]
    },
    {
      "cell_type": "code",
      "source": [
        "model.summary()"
      ],
      "metadata": {
        "colab": {
          "base_uri": "https://localhost:8080/"
        },
        "id": "8ath4YIs7bBg",
        "outputId": "bde40269-48da-449b-830b-7e505337f31c"
      },
      "execution_count": null,
      "outputs": [
        {
          "output_type": "stream",
          "name": "stdout",
          "text": [
            "Model: \"model\"\n",
            "_________________________________________________________________\n",
            " Layer (type)                Output Shape              Param #   \n",
            "=================================================================\n",
            " input_1 (InputLayer)        [(None, 71, 71, 1)]       0         \n",
            "                                                                 \n",
            " conv2d (Conv2D)             (None, 71, 71, 32)        320       \n",
            "                                                                 \n",
            " average_pooling2d (AverageP  (None, 35, 35, 32)       0         \n",
            " ooling2D)                                                       \n",
            "                                                                 \n",
            " conv2d_1 (Conv2D)           (None, 35, 35, 32)        9248      \n",
            "                                                                 \n",
            " average_pooling2d_1 (Averag  (None, 17, 17, 32)       0         \n",
            " ePooling2D)                                                     \n",
            "                                                                 \n",
            " conv2d_2 (Conv2D)           (None, 17, 17, 32)        9248      \n",
            "                                                                 \n",
            " average_pooling2d_2 (Averag  (None, 8, 8, 32)         0         \n",
            " ePooling2D)                                                     \n",
            "                                                                 \n",
            " flatten (Flatten)           (None, 2048)              0         \n",
            "                                                                 \n",
            " dropout (Dropout)           (None, 2048)              0         \n",
            "                                                                 \n",
            " dense (Dense)               (None, 512)               1049088   \n",
            "                                                                 \n",
            " lambda (Lambda)             (None, 512)               0         \n",
            "                                                                 \n",
            "=================================================================\n",
            "Total params: 1,067,904\n",
            "Trainable params: 1,067,904\n",
            "Non-trainable params: 0\n",
            "_________________________________________________________________\n"
          ]
        }
      ]
    },
    {
      "cell_type": "code",
      "source": [
        "feature_extractor = keras.Model(\n",
        "    inputs=model.inputs,\n",
        "    outputs=model.get_layer(name=\"flatten\").output)"
      ],
      "metadata": {
        "id": "L7G5CMIo8Hzz"
      },
      "execution_count": null,
      "outputs": []
    },
    {
      "cell_type": "code",
      "source": [
        "def getNormed(this_array, this_min = 0, this_max = 255, set_to_int = True):\n",
        "    new_var = this_array.copy()\n",
        "    rat = (this_max - this_min)/(new_var.max() - new_var.min())\n",
        "    new_var = new_var * rat\n",
        "    new_var -= new_var.min()\n",
        "    new_var += this_min\n",
        "    if set_to_int:\n",
        "        return new_var.astype('uint8')\n",
        "    return new_var"
      ],
      "metadata": {
        "id": "KuMQAw73J3ml"
      },
      "execution_count": null,
      "outputs": []
    },
    {
      "cell_type": "code",
      "source": [
        "total = pd.read_csv(\"/content/drive/MyDrive/MedIx REU/Datasets/Amal/CNN/Malignancy/Agreement_Binary_Rating.csv\")\n",
        "total_nod = total['noduleID']\n",
        "total_nod = np.array(total_nod)\n",
        "\n",
        "image_folder = '/content/drive/MyDrive/MedIx REU/Datasets/Amal/images_1332'\n",
        "train_images = []\n",
        "train_noduleId = []\n",
        "print(image_folder)\n",
        "\n",
        "for dir1 in os.listdir(image_folder):\n",
        "    print(dir1)\n",
        "    if not dir1.startswith('.'):\n",
        "        for file in os.listdir(os.path.join(image_folder, dir1)):\n",
        "            #print(file)\n",
        "            noduleID = file.split('.')[0]\n",
        "            if not file.startswith('.'):\n",
        "                noduleID = int(noduleID)\n",
        "                train_noduleId.append(noduleID)\n",
        "                temp_image = np.loadtxt(os.path.join(image_folder, dir1,file))\n",
        "                temp_image = getNormed(temp_image)\n",
        "                train_images.append(temp_image)"
      ],
      "metadata": {
        "colab": {
          "base_uri": "https://localhost:8080/"
        },
        "id": "6g31sBFBsVqa",
        "outputId": "b53e4620-77be-447d-ad78-8c88ac4fb821"
      },
      "execution_count": null,
      "outputs": [
        {
          "output_type": "stream",
          "name": "stdout",
          "text": [
            "/content/drive/MyDrive/MedIx REU/Datasets/Amal/images_1332\n",
            "Malignancy_5\n",
            "Malignancy_1\n",
            "Malignancy_4\n",
            "Malignancy_2\n",
            "Malignancy_3\n"
          ]
        }
      ]
    },
    {
      "cell_type": "code",
      "source": [
        "tr_df = pd.DataFrame(train_noduleId,columns =['noduleID'])\n",
        "print(tr_df)"
      ],
      "metadata": {
        "colab": {
          "base_uri": "https://localhost:8080/"
        },
        "id": "blnRj1xrsYl0",
        "outputId": "b763d708-9e07-46e6-d837-29d2436ec0fa"
      },
      "execution_count": null,
      "outputs": [
        {
          "output_type": "stream",
          "name": "stdout",
          "text": [
            "      noduleID\n",
            "0          324\n",
            "1         1888\n",
            "2         1606\n",
            "3         1427\n",
            "4         1760\n",
            "...        ...\n",
            "1327      2301\n",
            "1328      2583\n",
            "1329      1772\n",
            "1330       231\n",
            "1331      2540\n",
            "\n",
            "[1332 rows x 1 columns]\n"
          ]
        }
      ]
    },
    {
      "cell_type": "code",
      "source": [
        "train_slices = pd.merge(tr_df, total)\n",
        "display(train_slices)"
      ],
      "metadata": {
        "colab": {
          "base_uri": "https://localhost:8080/",
          "height": 657
        },
        "id": "qEBjIX9-sanO",
        "outputId": "212df3e7-0d8e-4065-a31e-83194fc64094"
      },
      "execution_count": null,
      "outputs": [
        {
          "output_type": "display_data",
          "data": {
            "text/plain": [
              "      noduleID  InstanceID  RadiologistID  imageZposition  Area  ConvexArea  \\\n",
              "0          324        4732              3     -273.000000   488         520   \n",
              "1         1888       28743              4      -95.500000   705         911   \n",
              "2         1606       24119              2     -500.299988   172         180   \n",
              "3         1427       21366              2     -420.100006   428         449   \n",
              "4         1760       26447              4      -83.250000   461         481   \n",
              "...        ...         ...            ...             ...   ...         ...   \n",
              "1327      2301       35200              4     -175.110001    93         103   \n",
              "1328      2583       39596              3     -144.029999    64          64   \n",
              "1329      1772       26626              3     -205.600000   126         133   \n",
              "1330       231        3308              3     1366.500000   162         167   \n",
              "1331      2540       38933              2     -160.820007    83          89   \n",
              "\n",
              "      Malignancy_1  Malignancy_2  Malignancy_3  Malignancy_4  Malignancy  \\\n",
              "0                5             5             5             4           5   \n",
              "1                3             5             5             2           5   \n",
              "2                5             4             5             2           5   \n",
              "3                5             5             3             3           4   \n",
              "4                5             5             3             4           5   \n",
              "...            ...           ...           ...           ...         ...   \n",
              "1327             3             4             1             3           3   \n",
              "1328             3             3             3             0           3   \n",
              "1329             4             3             3             3           3   \n",
              "1330             5             2             3             3           3   \n",
              "1331             3             3             3             0           3   \n",
              "\n",
              "      Binary Rating Binary_Rating_name  Agreement              Agreement_name  \n",
              "0                 1          Malignant          2  High Radiologist Agreement  \n",
              "1                 3            Unknown          1   Low Radiologist Agreement  \n",
              "2                 3            Unknown          1   Low Radiologist Agreement  \n",
              "3                 3            Unknown          1   Low Radiologist Agreement  \n",
              "4                 3            Unknown          1   Low Radiologist Agreement  \n",
              "...             ...                ...        ...                         ...  \n",
              "1327              3            Unknown          1   Low Radiologist Agreement  \n",
              "1328              2        Undetermain          2  High Radiologist Agreement  \n",
              "1329              2        Undetermain          2  High Radiologist Agreement  \n",
              "1330              3            Unknown          1   Low Radiologist Agreement  \n",
              "1331              2        Undetermain          2  High Radiologist Agreement  \n",
              "\n",
              "[1332 rows x 15 columns]"
            ],
            "text/html": [
              "\n",
              "  <div id=\"df-3abaf4f5-805f-4bd3-a7ac-39317cacdaa4\">\n",
              "    <div class=\"colab-df-container\">\n",
              "      <div>\n",
              "<style scoped>\n",
              "    .dataframe tbody tr th:only-of-type {\n",
              "        vertical-align: middle;\n",
              "    }\n",
              "\n",
              "    .dataframe tbody tr th {\n",
              "        vertical-align: top;\n",
              "    }\n",
              "\n",
              "    .dataframe thead th {\n",
              "        text-align: right;\n",
              "    }\n",
              "</style>\n",
              "<table border=\"1\" class=\"dataframe\">\n",
              "  <thead>\n",
              "    <tr style=\"text-align: right;\">\n",
              "      <th></th>\n",
              "      <th>noduleID</th>\n",
              "      <th>InstanceID</th>\n",
              "      <th>RadiologistID</th>\n",
              "      <th>imageZposition</th>\n",
              "      <th>Area</th>\n",
              "      <th>ConvexArea</th>\n",
              "      <th>Malignancy_1</th>\n",
              "      <th>Malignancy_2</th>\n",
              "      <th>Malignancy_3</th>\n",
              "      <th>Malignancy_4</th>\n",
              "      <th>Malignancy</th>\n",
              "      <th>Binary Rating</th>\n",
              "      <th>Binary_Rating_name</th>\n",
              "      <th>Agreement</th>\n",
              "      <th>Agreement_name</th>\n",
              "    </tr>\n",
              "  </thead>\n",
              "  <tbody>\n",
              "    <tr>\n",
              "      <th>0</th>\n",
              "      <td>324</td>\n",
              "      <td>4732</td>\n",
              "      <td>3</td>\n",
              "      <td>-273.000000</td>\n",
              "      <td>488</td>\n",
              "      <td>520</td>\n",
              "      <td>5</td>\n",
              "      <td>5</td>\n",
              "      <td>5</td>\n",
              "      <td>4</td>\n",
              "      <td>5</td>\n",
              "      <td>1</td>\n",
              "      <td>Malignant</td>\n",
              "      <td>2</td>\n",
              "      <td>High Radiologist Agreement</td>\n",
              "    </tr>\n",
              "    <tr>\n",
              "      <th>1</th>\n",
              "      <td>1888</td>\n",
              "      <td>28743</td>\n",
              "      <td>4</td>\n",
              "      <td>-95.500000</td>\n",
              "      <td>705</td>\n",
              "      <td>911</td>\n",
              "      <td>3</td>\n",
              "      <td>5</td>\n",
              "      <td>5</td>\n",
              "      <td>2</td>\n",
              "      <td>5</td>\n",
              "      <td>3</td>\n",
              "      <td>Unknown</td>\n",
              "      <td>1</td>\n",
              "      <td>Low Radiologist Agreement</td>\n",
              "    </tr>\n",
              "    <tr>\n",
              "      <th>2</th>\n",
              "      <td>1606</td>\n",
              "      <td>24119</td>\n",
              "      <td>2</td>\n",
              "      <td>-500.299988</td>\n",
              "      <td>172</td>\n",
              "      <td>180</td>\n",
              "      <td>5</td>\n",
              "      <td>4</td>\n",
              "      <td>5</td>\n",
              "      <td>2</td>\n",
              "      <td>5</td>\n",
              "      <td>3</td>\n",
              "      <td>Unknown</td>\n",
              "      <td>1</td>\n",
              "      <td>Low Radiologist Agreement</td>\n",
              "    </tr>\n",
              "    <tr>\n",
              "      <th>3</th>\n",
              "      <td>1427</td>\n",
              "      <td>21366</td>\n",
              "      <td>2</td>\n",
              "      <td>-420.100006</td>\n",
              "      <td>428</td>\n",
              "      <td>449</td>\n",
              "      <td>5</td>\n",
              "      <td>5</td>\n",
              "      <td>3</td>\n",
              "      <td>3</td>\n",
              "      <td>4</td>\n",
              "      <td>3</td>\n",
              "      <td>Unknown</td>\n",
              "      <td>1</td>\n",
              "      <td>Low Radiologist Agreement</td>\n",
              "    </tr>\n",
              "    <tr>\n",
              "      <th>4</th>\n",
              "      <td>1760</td>\n",
              "      <td>26447</td>\n",
              "      <td>4</td>\n",
              "      <td>-83.250000</td>\n",
              "      <td>461</td>\n",
              "      <td>481</td>\n",
              "      <td>5</td>\n",
              "      <td>5</td>\n",
              "      <td>3</td>\n",
              "      <td>4</td>\n",
              "      <td>5</td>\n",
              "      <td>3</td>\n",
              "      <td>Unknown</td>\n",
              "      <td>1</td>\n",
              "      <td>Low Radiologist Agreement</td>\n",
              "    </tr>\n",
              "    <tr>\n",
              "      <th>...</th>\n",
              "      <td>...</td>\n",
              "      <td>...</td>\n",
              "      <td>...</td>\n",
              "      <td>...</td>\n",
              "      <td>...</td>\n",
              "      <td>...</td>\n",
              "      <td>...</td>\n",
              "      <td>...</td>\n",
              "      <td>...</td>\n",
              "      <td>...</td>\n",
              "      <td>...</td>\n",
              "      <td>...</td>\n",
              "      <td>...</td>\n",
              "      <td>...</td>\n",
              "      <td>...</td>\n",
              "    </tr>\n",
              "    <tr>\n",
              "      <th>1327</th>\n",
              "      <td>2301</td>\n",
              "      <td>35200</td>\n",
              "      <td>4</td>\n",
              "      <td>-175.110001</td>\n",
              "      <td>93</td>\n",
              "      <td>103</td>\n",
              "      <td>3</td>\n",
              "      <td>4</td>\n",
              "      <td>1</td>\n",
              "      <td>3</td>\n",
              "      <td>3</td>\n",
              "      <td>3</td>\n",
              "      <td>Unknown</td>\n",
              "      <td>1</td>\n",
              "      <td>Low Radiologist Agreement</td>\n",
              "    </tr>\n",
              "    <tr>\n",
              "      <th>1328</th>\n",
              "      <td>2583</td>\n",
              "      <td>39596</td>\n",
              "      <td>3</td>\n",
              "      <td>-144.029999</td>\n",
              "      <td>64</td>\n",
              "      <td>64</td>\n",
              "      <td>3</td>\n",
              "      <td>3</td>\n",
              "      <td>3</td>\n",
              "      <td>0</td>\n",
              "      <td>3</td>\n",
              "      <td>2</td>\n",
              "      <td>Undetermain</td>\n",
              "      <td>2</td>\n",
              "      <td>High Radiologist Agreement</td>\n",
              "    </tr>\n",
              "    <tr>\n",
              "      <th>1329</th>\n",
              "      <td>1772</td>\n",
              "      <td>26626</td>\n",
              "      <td>3</td>\n",
              "      <td>-205.600000</td>\n",
              "      <td>126</td>\n",
              "      <td>133</td>\n",
              "      <td>4</td>\n",
              "      <td>3</td>\n",
              "      <td>3</td>\n",
              "      <td>3</td>\n",
              "      <td>3</td>\n",
              "      <td>2</td>\n",
              "      <td>Undetermain</td>\n",
              "      <td>2</td>\n",
              "      <td>High Radiologist Agreement</td>\n",
              "    </tr>\n",
              "    <tr>\n",
              "      <th>1330</th>\n",
              "      <td>231</td>\n",
              "      <td>3308</td>\n",
              "      <td>3</td>\n",
              "      <td>1366.500000</td>\n",
              "      <td>162</td>\n",
              "      <td>167</td>\n",
              "      <td>5</td>\n",
              "      <td>2</td>\n",
              "      <td>3</td>\n",
              "      <td>3</td>\n",
              "      <td>3</td>\n",
              "      <td>3</td>\n",
              "      <td>Unknown</td>\n",
              "      <td>1</td>\n",
              "      <td>Low Radiologist Agreement</td>\n",
              "    </tr>\n",
              "    <tr>\n",
              "      <th>1331</th>\n",
              "      <td>2540</td>\n",
              "      <td>38933</td>\n",
              "      <td>2</td>\n",
              "      <td>-160.820007</td>\n",
              "      <td>83</td>\n",
              "      <td>89</td>\n",
              "      <td>3</td>\n",
              "      <td>3</td>\n",
              "      <td>3</td>\n",
              "      <td>0</td>\n",
              "      <td>3</td>\n",
              "      <td>2</td>\n",
              "      <td>Undetermain</td>\n",
              "      <td>2</td>\n",
              "      <td>High Radiologist Agreement</td>\n",
              "    </tr>\n",
              "  </tbody>\n",
              "</table>\n",
              "<p>1332 rows × 15 columns</p>\n",
              "</div>\n",
              "      <button class=\"colab-df-convert\" onclick=\"convertToInteractive('df-3abaf4f5-805f-4bd3-a7ac-39317cacdaa4')\"\n",
              "              title=\"Convert this dataframe to an interactive table.\"\n",
              "              style=\"display:none;\">\n",
              "        \n",
              "  <svg xmlns=\"http://www.w3.org/2000/svg\" height=\"24px\"viewBox=\"0 0 24 24\"\n",
              "       width=\"24px\">\n",
              "    <path d=\"M0 0h24v24H0V0z\" fill=\"none\"/>\n",
              "    <path d=\"M18.56 5.44l.94 2.06.94-2.06 2.06-.94-2.06-.94-.94-2.06-.94 2.06-2.06.94zm-11 1L8.5 8.5l.94-2.06 2.06-.94-2.06-.94L8.5 2.5l-.94 2.06-2.06.94zm10 10l.94 2.06.94-2.06 2.06-.94-2.06-.94-.94-2.06-.94 2.06-2.06.94z\"/><path d=\"M17.41 7.96l-1.37-1.37c-.4-.4-.92-.59-1.43-.59-.52 0-1.04.2-1.43.59L10.3 9.45l-7.72 7.72c-.78.78-.78 2.05 0 2.83L4 21.41c.39.39.9.59 1.41.59.51 0 1.02-.2 1.41-.59l7.78-7.78 2.81-2.81c.8-.78.8-2.07 0-2.86zM5.41 20L4 18.59l7.72-7.72 1.47 1.35L5.41 20z\"/>\n",
              "  </svg>\n",
              "      </button>\n",
              "      \n",
              "  <style>\n",
              "    .colab-df-container {\n",
              "      display:flex;\n",
              "      flex-wrap:wrap;\n",
              "      gap: 12px;\n",
              "    }\n",
              "\n",
              "    .colab-df-convert {\n",
              "      background-color: #E8F0FE;\n",
              "      border: none;\n",
              "      border-radius: 50%;\n",
              "      cursor: pointer;\n",
              "      display: none;\n",
              "      fill: #1967D2;\n",
              "      height: 32px;\n",
              "      padding: 0 0 0 0;\n",
              "      width: 32px;\n",
              "    }\n",
              "\n",
              "    .colab-df-convert:hover {\n",
              "      background-color: #E2EBFA;\n",
              "      box-shadow: 0px 1px 2px rgba(60, 64, 67, 0.3), 0px 1px 3px 1px rgba(60, 64, 67, 0.15);\n",
              "      fill: #174EA6;\n",
              "    }\n",
              "\n",
              "    [theme=dark] .colab-df-convert {\n",
              "      background-color: #3B4455;\n",
              "      fill: #D2E3FC;\n",
              "    }\n",
              "\n",
              "    [theme=dark] .colab-df-convert:hover {\n",
              "      background-color: #434B5C;\n",
              "      box-shadow: 0px 1px 3px 1px rgba(0, 0, 0, 0.15);\n",
              "      filter: drop-shadow(0px 1px 2px rgba(0, 0, 0, 0.3));\n",
              "      fill: #FFFFFF;\n",
              "    }\n",
              "  </style>\n",
              "\n",
              "      <script>\n",
              "        const buttonEl =\n",
              "          document.querySelector('#df-3abaf4f5-805f-4bd3-a7ac-39317cacdaa4 button.colab-df-convert');\n",
              "        buttonEl.style.display =\n",
              "          google.colab.kernel.accessAllowed ? 'block' : 'none';\n",
              "\n",
              "        async function convertToInteractive(key) {\n",
              "          const element = document.querySelector('#df-3abaf4f5-805f-4bd3-a7ac-39317cacdaa4');\n",
              "          const dataTable =\n",
              "            await google.colab.kernel.invokeFunction('convertToInteractive',\n",
              "                                                     [key], {});\n",
              "          if (!dataTable) return;\n",
              "\n",
              "          const docLinkHtml = 'Like what you see? Visit the ' +\n",
              "            '<a target=\"_blank\" href=https://colab.research.google.com/notebooks/data_table.ipynb>data table notebook</a>'\n",
              "            + ' to learn more about interactive tables.';\n",
              "          element.innerHTML = '';\n",
              "          dataTable['output_type'] = 'display_data';\n",
              "          await google.colab.output.renderOutput(dataTable, element);\n",
              "          const docLink = document.createElement('div');\n",
              "          docLink.innerHTML = docLinkHtml;\n",
              "          element.appendChild(docLink);\n",
              "        }\n",
              "      </script>\n",
              "    </div>\n",
              "  </div>\n",
              "  "
            ]
          },
          "metadata": {}
        }
      ]
    },
    {
      "cell_type": "code",
      "source": [
        "train_ids = train_slices[\"Binary Rating\"]"
      ],
      "metadata": {
        "id": "UoN_e_9dscki"
      },
      "execution_count": null,
      "outputs": []
    },
    {
      "cell_type": "code",
      "source": [
        "total_data = np.array(train_images).reshape(-1,71,71,1)\n",
        "\n",
        "# get the embeddings\n",
        "#total_embeddings_before = model.predict(total_data)\n",
        "total_embeddings_before = feature_extractor.predict(total_data)\n",
        "#total_embeddings2 = (total_embeddings_before[0] - total_embeddings_before[0].min()) / (total_embeddings_before[0].max() - total_embeddings_before[0].min())\n",
        "total_embeddings2 = (total_embeddings_before - total_embeddings_before.min()) / (total_embeddings_before.max() - total_embeddings_before.min())\n",
        "tot_embedded2 = TSNE(n_components=2,random_state=2).fit_transform(total_embeddings2)"
      ],
      "metadata": {
        "colab": {
          "base_uri": "https://localhost:8080/"
        },
        "id": "VGv-L9omse8F",
        "outputId": "155e0a8a-a14e-45ef-c156-24d16a0d8b74"
      },
      "execution_count": null,
      "outputs": [
        {
          "output_type": "stream",
          "name": "stdout",
          "text": [
            "42/42 [==============================] - 9s 4ms/step\n"
          ]
        }
      ]
    },
    {
      "cell_type": "code",
      "source": [
        "# Fit centroids to dataset\n",
        "centers = 1\n",
        "kmeans = KMeans(n_clusters=centers)\n",
        "kmeans.fit(tot_embedded2)\n",
        "#centroid = kmeans.evaluate(df_feature)\n",
        "centroid = kmeans.centroids"
      ],
      "metadata": {
        "id": "V-aIEyQHAVia"
      },
      "execution_count": null,
      "outputs": []
    },
    {
      "cell_type": "code",
      "source": [
        "centroid"
      ],
      "metadata": {
        "colab": {
          "base_uri": "https://localhost:8080/"
        },
        "id": "P3KF3qkf11SV",
        "outputId": "aa661264-42a5-41ed-f0c3-cb398591b567"
      },
      "execution_count": null,
      "outputs": [
        {
          "output_type": "execute_result",
          "data": {
            "text/plain": [
              "[array([ 0.9408694 , -0.16026829], dtype=float32)]"
            ]
          },
          "metadata": {},
          "execution_count": 17
        }
      ]
    },
    {
      "cell_type": "code",
      "source": [
        "dist = kmeans.euclidean(centroid, tot_embedded2)\n",
        "df_distance = pd.DataFrame()\n",
        "df_distance['InstanceID'] = train_slices['InstanceID']\n",
        "df_distance['Agreement'] = train_slices['Agreement_name']\n",
        "df_distance['Distance'] = dist\n",
        "df_distance['Spiculation'] = train_ids\n",
        "display(df_distance)"
      ],
      "metadata": {
        "colab": {
          "base_uri": "https://localhost:8080/",
          "height": 411
        },
        "id": "487LGMkVAXwP",
        "outputId": "2950b1e4-cc36-41e2-c784-5e9f6b508b09"
      },
      "execution_count": null,
      "outputs": [
        {
          "output_type": "display_data",
          "data": {
            "text/plain": [
              "      InstanceID                   Agreement   Distance  Spiculation\n",
              "0           4732  High Radiologist Agreement  10.176460            1\n",
              "1          28743   Low Radiologist Agreement   4.552032            3\n",
              "2          24119   Low Radiologist Agreement  20.469864            3\n",
              "3          21366   Low Radiologist Agreement   6.037195            3\n",
              "4          26447   Low Radiologist Agreement  11.179297            3\n",
              "...          ...                         ...        ...          ...\n",
              "1327       35200   Low Radiologist Agreement  11.687616            3\n",
              "1328       39596  High Radiologist Agreement   5.150939            2\n",
              "1329       26626  High Radiologist Agreement  16.302368            2\n",
              "1330        3308   Low Radiologist Agreement  15.637331            3\n",
              "1331       38933  High Radiologist Agreement  16.167822            2\n",
              "\n",
              "[1332 rows x 4 columns]"
            ],
            "text/html": [
              "\n",
              "  <div id=\"df-052725fd-cc5b-4b8e-8de1-476ea4f7faba\">\n",
              "    <div class=\"colab-df-container\">\n",
              "      <div>\n",
              "<style scoped>\n",
              "    .dataframe tbody tr th:only-of-type {\n",
              "        vertical-align: middle;\n",
              "    }\n",
              "\n",
              "    .dataframe tbody tr th {\n",
              "        vertical-align: top;\n",
              "    }\n",
              "\n",
              "    .dataframe thead th {\n",
              "        text-align: right;\n",
              "    }\n",
              "</style>\n",
              "<table border=\"1\" class=\"dataframe\">\n",
              "  <thead>\n",
              "    <tr style=\"text-align: right;\">\n",
              "      <th></th>\n",
              "      <th>InstanceID</th>\n",
              "      <th>Agreement</th>\n",
              "      <th>Distance</th>\n",
              "      <th>Spiculation</th>\n",
              "    </tr>\n",
              "  </thead>\n",
              "  <tbody>\n",
              "    <tr>\n",
              "      <th>0</th>\n",
              "      <td>4732</td>\n",
              "      <td>High Radiologist Agreement</td>\n",
              "      <td>10.176460</td>\n",
              "      <td>1</td>\n",
              "    </tr>\n",
              "    <tr>\n",
              "      <th>1</th>\n",
              "      <td>28743</td>\n",
              "      <td>Low Radiologist Agreement</td>\n",
              "      <td>4.552032</td>\n",
              "      <td>3</td>\n",
              "    </tr>\n",
              "    <tr>\n",
              "      <th>2</th>\n",
              "      <td>24119</td>\n",
              "      <td>Low Radiologist Agreement</td>\n",
              "      <td>20.469864</td>\n",
              "      <td>3</td>\n",
              "    </tr>\n",
              "    <tr>\n",
              "      <th>3</th>\n",
              "      <td>21366</td>\n",
              "      <td>Low Radiologist Agreement</td>\n",
              "      <td>6.037195</td>\n",
              "      <td>3</td>\n",
              "    </tr>\n",
              "    <tr>\n",
              "      <th>4</th>\n",
              "      <td>26447</td>\n",
              "      <td>Low Radiologist Agreement</td>\n",
              "      <td>11.179297</td>\n",
              "      <td>3</td>\n",
              "    </tr>\n",
              "    <tr>\n",
              "      <th>...</th>\n",
              "      <td>...</td>\n",
              "      <td>...</td>\n",
              "      <td>...</td>\n",
              "      <td>...</td>\n",
              "    </tr>\n",
              "    <tr>\n",
              "      <th>1327</th>\n",
              "      <td>35200</td>\n",
              "      <td>Low Radiologist Agreement</td>\n",
              "      <td>11.687616</td>\n",
              "      <td>3</td>\n",
              "    </tr>\n",
              "    <tr>\n",
              "      <th>1328</th>\n",
              "      <td>39596</td>\n",
              "      <td>High Radiologist Agreement</td>\n",
              "      <td>5.150939</td>\n",
              "      <td>2</td>\n",
              "    </tr>\n",
              "    <tr>\n",
              "      <th>1329</th>\n",
              "      <td>26626</td>\n",
              "      <td>High Radiologist Agreement</td>\n",
              "      <td>16.302368</td>\n",
              "      <td>2</td>\n",
              "    </tr>\n",
              "    <tr>\n",
              "      <th>1330</th>\n",
              "      <td>3308</td>\n",
              "      <td>Low Radiologist Agreement</td>\n",
              "      <td>15.637331</td>\n",
              "      <td>3</td>\n",
              "    </tr>\n",
              "    <tr>\n",
              "      <th>1331</th>\n",
              "      <td>38933</td>\n",
              "      <td>High Radiologist Agreement</td>\n",
              "      <td>16.167822</td>\n",
              "      <td>2</td>\n",
              "    </tr>\n",
              "  </tbody>\n",
              "</table>\n",
              "<p>1332 rows × 4 columns</p>\n",
              "</div>\n",
              "      <button class=\"colab-df-convert\" onclick=\"convertToInteractive('df-052725fd-cc5b-4b8e-8de1-476ea4f7faba')\"\n",
              "              title=\"Convert this dataframe to an interactive table.\"\n",
              "              style=\"display:none;\">\n",
              "        \n",
              "  <svg xmlns=\"http://www.w3.org/2000/svg\" height=\"24px\"viewBox=\"0 0 24 24\"\n",
              "       width=\"24px\">\n",
              "    <path d=\"M0 0h24v24H0V0z\" fill=\"none\"/>\n",
              "    <path d=\"M18.56 5.44l.94 2.06.94-2.06 2.06-.94-2.06-.94-.94-2.06-.94 2.06-2.06.94zm-11 1L8.5 8.5l.94-2.06 2.06-.94-2.06-.94L8.5 2.5l-.94 2.06-2.06.94zm10 10l.94 2.06.94-2.06 2.06-.94-2.06-.94-.94-2.06-.94 2.06-2.06.94z\"/><path d=\"M17.41 7.96l-1.37-1.37c-.4-.4-.92-.59-1.43-.59-.52 0-1.04.2-1.43.59L10.3 9.45l-7.72 7.72c-.78.78-.78 2.05 0 2.83L4 21.41c.39.39.9.59 1.41.59.51 0 1.02-.2 1.41-.59l7.78-7.78 2.81-2.81c.8-.78.8-2.07 0-2.86zM5.41 20L4 18.59l7.72-7.72 1.47 1.35L5.41 20z\"/>\n",
              "  </svg>\n",
              "      </button>\n",
              "      \n",
              "  <style>\n",
              "    .colab-df-container {\n",
              "      display:flex;\n",
              "      flex-wrap:wrap;\n",
              "      gap: 12px;\n",
              "    }\n",
              "\n",
              "    .colab-df-convert {\n",
              "      background-color: #E8F0FE;\n",
              "      border: none;\n",
              "      border-radius: 50%;\n",
              "      cursor: pointer;\n",
              "      display: none;\n",
              "      fill: #1967D2;\n",
              "      height: 32px;\n",
              "      padding: 0 0 0 0;\n",
              "      width: 32px;\n",
              "    }\n",
              "\n",
              "    .colab-df-convert:hover {\n",
              "      background-color: #E2EBFA;\n",
              "      box-shadow: 0px 1px 2px rgba(60, 64, 67, 0.3), 0px 1px 3px 1px rgba(60, 64, 67, 0.15);\n",
              "      fill: #174EA6;\n",
              "    }\n",
              "\n",
              "    [theme=dark] .colab-df-convert {\n",
              "      background-color: #3B4455;\n",
              "      fill: #D2E3FC;\n",
              "    }\n",
              "\n",
              "    [theme=dark] .colab-df-convert:hover {\n",
              "      background-color: #434B5C;\n",
              "      box-shadow: 0px 1px 3px 1px rgba(0, 0, 0, 0.15);\n",
              "      filter: drop-shadow(0px 1px 2px rgba(0, 0, 0, 0.3));\n",
              "      fill: #FFFFFF;\n",
              "    }\n",
              "  </style>\n",
              "\n",
              "      <script>\n",
              "        const buttonEl =\n",
              "          document.querySelector('#df-052725fd-cc5b-4b8e-8de1-476ea4f7faba button.colab-df-convert');\n",
              "        buttonEl.style.display =\n",
              "          google.colab.kernel.accessAllowed ? 'block' : 'none';\n",
              "\n",
              "        async function convertToInteractive(key) {\n",
              "          const element = document.querySelector('#df-052725fd-cc5b-4b8e-8de1-476ea4f7faba');\n",
              "          const dataTable =\n",
              "            await google.colab.kernel.invokeFunction('convertToInteractive',\n",
              "                                                     [key], {});\n",
              "          if (!dataTable) return;\n",
              "\n",
              "          const docLinkHtml = 'Like what you see? Visit the ' +\n",
              "            '<a target=\"_blank\" href=https://colab.research.google.com/notebooks/data_table.ipynb>data table notebook</a>'\n",
              "            + ' to learn more about interactive tables.';\n",
              "          element.innerHTML = '';\n",
              "          dataTable['output_type'] = 'display_data';\n",
              "          await google.colab.output.renderOutput(dataTable, element);\n",
              "          const docLink = document.createElement('div');\n",
              "          docLink.innerHTML = docLinkHtml;\n",
              "          element.appendChild(docLink);\n",
              "        }\n",
              "      </script>\n",
              "    </div>\n",
              "  </div>\n",
              "  "
            ]
          },
          "metadata": {}
        }
      ]
    },
    {
      "cell_type": "code",
      "source": [
        "#df_distance.to_csv(\"/content/drive/MyDrive/MedIx REU/Datasets/Amal/Autoencoder/mal_files/SCNN_mal_var_distance.csv\")"
      ],
      "metadata": {
        "id": "wIw2XgvKAZ7f"
      },
      "execution_count": null,
      "outputs": []
    },
    {
      "cell_type": "code",
      "source": [
        "plt.rcParams[\"figure.figsize\"] = [9.50, 7.50]\n",
        "plt.rcParams[\"figure.autolayout\"] = True\n",
        "#df.plot(figsize=(20,20))\n",
        "\n",
        "axes = df_distance.boxplot(by='Agreement',column =['Distance'], showmeans=True, showfliers=True, grid= False)\n",
        "axes.set_title('')\n",
        "plt.title('')\n",
        "plt.suptitle('')\n",
        "#plt.ylim([0.0, 1.0])\n",
        "plt.ylabel(\"Distance from the Centroid\", fontdict={'fontsize':15})\n",
        "plt.xlabel(\"Agreement\", fontdict={'fontsize':15})\n",
        "#plt.xticks([0,1, 2, 3],['No Radiologist Agreement', 'Low Radiologist Agreement', 'High Radiologist Agreement', 'All Radiologists Agree'])\n",
        "plt.show()"
      ],
      "metadata": {
        "colab": {
          "base_uri": "https://localhost:8080/",
          "height": 742
        },
        "id": "VuhIPPF0AgJC",
        "outputId": "27a66850-a82c-4873-a530-9d3cfb4ffa21"
      },
      "execution_count": null,
      "outputs": [
        {
          "output_type": "display_data",
          "data": {
            "text/plain": [
              "<Figure size 950x750 with 1 Axes>"
            ],
            "image/png": "[encoded data removed]"
          },
          "metadata": {}
        }
      ]
    },
    {
      "cell_type": "code",
      "source": [
        "m1 = df_distance.groupby(['Agreement'])['Distance'].mean().values\n",
        "print(m1)"
      ],
      "metadata": {
        "colab": {
          "base_uri": "https://localhost:8080/"
        },
        "id": "PGJiwf7YAi9K",
        "outputId": "64ad2838-fd99-44dc-f821-08f9b25d106f"
      },
      "execution_count": null,
      "outputs": [
        {
          "output_type": "stream",
          "name": "stdout",
          "text": [
            "[14.201842 11.242938 10.392744 10.040071]\n"
          ]
        }
      ]
    },
    {
      "cell_type": "code",
      "source": [
        "m2 = df_distance.groupby(['Agreement'])['Distance'].median().values\n",
        "print(m2)"
      ],
      "metadata": {
        "colab": {
          "base_uri": "https://localhost:8080/"
        },
        "id": "-5Mey98uAjDs",
        "outputId": "425b7e60-3b11-4392-b012-0b12eb4afced"
      },
      "execution_count": null,
      "outputs": [
        {
          "output_type": "stream",
          "name": "stdout",
          "text": [
            "[14.366587 11.02778   9.875469  9.811197]\n"
          ]
        }
      ]
    },
    {
      "cell_type": "code",
      "source": [
        "plt.rcParams[\"figure.figsize\"] = [9.50, 7.50]\n",
        "plt.rcParams[\"figure.autolayout\"] = True\n",
        "#df.plot(figsize=(20,20))\n",
        "\n",
        "axes = df_distance.boxplot(by='Spiculation',column =['Distance'], showmeans=True, showfliers=True, grid= False)\n",
        "axes.set_title('')\n",
        "plt.title('')\n",
        "plt.suptitle('')\n",
        "\n",
        "plt.ylabel(\"Uncertainty Scores\", fontdict={'fontsize':15})\n",
        "plt.xlabel(\"Malignancy\", fontdict={'fontsize':15})\n",
        "plt.xticks([1, 2, 3,4], ['Not Malignant','Malignant', 'Indeterminate','Evaluation on low/No Agreement'])\n",
        "plt.show()"
      ],
      "metadata": {
        "colab": {
          "base_uri": "https://localhost:8080/",
          "height": 742
        },
        "id": "9HC888imq4AW",
        "outputId": "4fdf81e5-b0b8-4d2f-aed8-119db09cd2ef"
      },
      "execution_count": null,
      "outputs": [
        {
          "output_type": "display_data",
          "data": {
            "text/plain": [
              "<Figure size 950x750 with 1 Axes>"
            ],
            "image/png": "[encoded data removed]"
          },
          "metadata": {}
        }
      ]
    },
    {
      "cell_type": "code",
      "source": [
        "m1 = df_distance.groupby(['Spiculation'])['Distance'].mean().values\n",
        "print(m1)\n",
        "m2 = df_distance.groupby(['Spiculation'])['Distance'].median().values\n",
        "print(m2)"
      ],
      "metadata": {
        "colab": {
          "base_uri": "https://localhost:8080/"
        },
        "id": "nnlbpv8Fq9IT",
        "outputId": "caf99295-5e8f-433c-8683-f465b12165ae"
      },
      "execution_count": null,
      "outputs": [
        {
          "output_type": "stream",
          "name": "stdout",
          "text": [
            "[15.226425  9.909947  9.679742 10.332465]\n",
            "[15.603622 10.016882  8.749481  9.85803 ]\n"
          ]
        }
      ]
    }
  ],
  "metadata": {
    "accelerator": "GPU",
    "colab": {
      "machine_shape": "hm",
      "provenance": [],
      "mount_file_id": "17yD4cDMduSLFAi8oiqQflUBntWkrQCrV",
      "authorship_tag": "ABX9TyNVwm8BYOr5gDZ/ad/UgTrG",
      "include_colab_link": true
    },
    "kernelspec": {
      "display_name": "Python 3",
      "name": "python3"
    },
    "language_info": {
      "name": "python"
    }
  },
  "nbformat": 4,
  "nbformat_minor": 0
}